{
 "cells": [
  {
   "cell_type": "markdown",
   "metadata": {},
   "source": [
    "Importing various required packages and libraries"
   ]
  },
  {
   "cell_type": "code",
   "execution_count": 2,
   "metadata": {},
   "outputs": [],
   "source": [
    "import matplotlib.pyplot as plt\n",
    "import numpy as np\n",
    "import pandas as pd\n",
    "from mplsoccer import Pitch, Sbopen, VerticalPitch"
   ]
  },
  {
   "cell_type": "markdown",
   "metadata": {},
   "source": [
    "Open the data"
   ]
  },
  {
   "cell_type": "code",
   "execution_count": 91,
   "metadata": {},
   "outputs": [],
   "source": [
    "parser = Sbopen()\n",
    "#parser.event(<game_id>) -> check SBdata.ipynb\n",
    "df = parser.event(69301)[0]"
   ]
  },
  {
   "cell_type": "markdown",
   "metadata": {},
   "source": [
    "Overview of the data"
   ]
  },
  {
   "cell_type": "code",
   "execution_count": 92,
   "metadata": {},
   "outputs": [
    {
     "name": "stdout",
     "output_type": "stream",
     "text": [
      "<class 'pandas.core.frame.DataFrame'>\n",
      "RangeIndex: 3291 entries, 0 to 3290\n",
      "Data columns (total 74 columns):\n",
      " #   Column                          Non-Null Count  Dtype  \n",
      "---  ------                          --------------  -----  \n",
      " 0   id                              3291 non-null   object \n",
      " 1   index                           3291 non-null   int64  \n",
      " 2   period                          3291 non-null   int64  \n",
      " 3   timestamp                       3291 non-null   object \n",
      " 4   minute                          3291 non-null   int64  \n",
      " 5   second                          3291 non-null   int64  \n",
      " 6   possession                      3291 non-null   int64  \n",
      " 7   duration                        2457 non-null   float64\n",
      " 8   match_id                        3291 non-null   int64  \n",
      " 9   type_id                         3291 non-null   int64  \n",
      " 10  type_name                       3291 non-null   object \n",
      " 11  possession_team_id              3291 non-null   int64  \n",
      " 12  possession_team_name            3291 non-null   object \n",
      " 13  play_pattern_id                 3291 non-null   int64  \n",
      " 14  play_pattern_name               3291 non-null   object \n",
      " 15  team_id                         3291 non-null   int64  \n",
      " 16  team_name                       3291 non-null   object \n",
      " 17  tactics_formation               4 non-null      float64\n",
      " 18  player_id                       3279 non-null   float64\n",
      " 19  player_name                     3279 non-null   object \n",
      " 20  position_id                     3279 non-null   float64\n",
      " 21  position_name                   3279 non-null   object \n",
      " 22  pass_recipient_id               834 non-null    float64\n",
      " 23  pass_recipient_name             834 non-null    object \n",
      " 24  pass_length                     921 non-null    float64\n",
      " 25  pass_angle                      921 non-null    float64\n",
      " 26  pass_height_id                  921 non-null    float64\n",
      " 27  pass_height_name                921 non-null    object \n",
      " 28  end_x                           1713 non-null   float64\n",
      " 29  end_y                           1713 non-null   float64\n",
      " 30  body_part_id                    939 non-null    float64\n",
      " 31  body_part_name                  939 non-null    object \n",
      " 32  sub_type_id                     318 non-null    float64\n",
      " 33  sub_type_name                   318 non-null    object \n",
      " 34  x                               3266 non-null   float64\n",
      " 35  y                               3266 non-null   float64\n",
      " 36  under_pressure                  640 non-null    float64\n",
      " 37  outcome_id                      503 non-null    float64\n",
      " 38  outcome_name                    503 non-null    object \n",
      " 39  out                             31 non-null     float64\n",
      " 40  counterpress                    88 non-null     float64\n",
      " 41  pass_deflected                  1 non-null      object \n",
      " 42  pass_switch                     22 non-null     object \n",
      " 43  technique_id                    37 non-null     float64\n",
      " 44  technique_name                  37 non-null     object \n",
      " 45  pass_cross                      34 non-null     object \n",
      " 46  off_camera                      25 non-null     float64\n",
      " 47  shot_statsbomb_xg               19 non-null     float64\n",
      " 48  end_z                           15 non-null     float64\n",
      " 49  shot_first_time                 5 non-null      object \n",
      " 50  goalkeeper_position_id          19 non-null     float64\n",
      " 51  goalkeeper_position_name        19 non-null     object \n",
      " 52  ball_recovery_recovery_failure  10 non-null     object \n",
      " 53  pass_assisted_shot_id           10 non-null     object \n",
      " 54  pass_shot_assist                8 non-null      object \n",
      " 55  shot_key_pass_id                10 non-null     object \n",
      " 56  foul_won_defensive              5 non-null      object \n",
      " 57  aerial_won                      30 non-null     object \n",
      " 58  pass_goal_assist                2 non-null      object \n",
      " 59  substitution_replacement_id     6 non-null      float64\n",
      " 60  substitution_replacement_name   6 non-null      object \n",
      " 61  foul_committed_offensive        2 non-null      object \n",
      " 62  shot_one_on_one                 1 non-null      object \n",
      " 63  dribble_overrun                 1 non-null      object \n",
      " 64  block_deflection                2 non-null      object \n",
      " 65  pass_cut_back                   1 non-null      object \n",
      " 66  bad_behaviour_card_id           1 non-null      float64\n",
      " 67  bad_behaviour_card_name         1 non-null      object \n",
      " 68  pass_no_touch                   1 non-null      object \n",
      " 69  block_save_block                1 non-null      object \n",
      " 70  foul_committed_advantage        1 non-null      object \n",
      " 71  foul_won_advantage              1 non-null      object \n",
      " 72  foul_committed_card_id          1 non-null      float64\n",
      " 73  foul_committed_card_name        1 non-null      object \n",
      "dtypes: float64(26), int64(10), object(38)\n",
      "memory usage: 1.9+ MB\n"
     ]
    }
   ],
   "source": [
    "df.info()"
   ]
  },
  {
   "cell_type": "markdown",
   "metadata": {},
   "source": [
    "A few important columns and their significance for this activity:\n",
    "1. `id`: Index of the event - To refer to the event\n",
    "2. `team_name`: Name of the team related to the event - Team taking the shot\n",
    "3. `player_name`: Name of the player related to the event - Player taking the shot\n",
    "4. `type_name`: Type of event - Shot\n",
    "5. `x`: X coordinate location of event - X coordinate where shot was taken\n",
    "6. `y`: Y coordinate location of event - Y coordinate where shot was taken\n",
    "7. `outcome_name`: Outcome of the event - Outcome of taking the shot (Goal, Saved, etc.)\n",
    "\n",
    "We will drop all other columns that are not significant for this activity."
   ]
  },
  {
   "cell_type": "code",
   "execution_count": 73,
   "metadata": {},
   "outputs": [],
   "source": [
    "df_clean = df.drop(df.columns.difference(['id', 'team_name','player_name', 'type_name', 'x', 'y', 'outcome_name']), axis = 1)"
   ]
  },
  {
   "cell_type": "markdown",
   "metadata": {},
   "source": [
    "Overview of the cleaned data"
   ]
  },
  {
   "cell_type": "code",
   "execution_count": 74,
   "metadata": {},
   "outputs": [
    {
     "data": {
      "text/html": [
       "<div>\n",
       "<style scoped>\n",
       "    .dataframe tbody tr th:only-of-type {\n",
       "        vertical-align: middle;\n",
       "    }\n",
       "\n",
       "    .dataframe tbody tr th {\n",
       "        vertical-align: top;\n",
       "    }\n",
       "\n",
       "    .dataframe thead th {\n",
       "        text-align: right;\n",
       "    }\n",
       "</style>\n",
       "<table border=\"1\" class=\"dataframe\">\n",
       "  <thead>\n",
       "    <tr style=\"text-align: right;\">\n",
       "      <th></th>\n",
       "      <th>id</th>\n",
       "      <th>type_name</th>\n",
       "      <th>team_name</th>\n",
       "      <th>player_name</th>\n",
       "      <th>x</th>\n",
       "      <th>y</th>\n",
       "      <th>outcome_name</th>\n",
       "    </tr>\n",
       "  </thead>\n",
       "  <tbody>\n",
       "    <tr>\n",
       "      <th>0</th>\n",
       "      <td>e8643796-c76d-44f5-a03d-fa742e051942</td>\n",
       "      <td>Starting XI</td>\n",
       "      <td>England Women's</td>\n",
       "      <td>NaN</td>\n",
       "      <td>NaN</td>\n",
       "      <td>NaN</td>\n",
       "      <td>NaN</td>\n",
       "    </tr>\n",
       "    <tr>\n",
       "      <th>1</th>\n",
       "      <td>937f83f8-674d-4c58-81d5-e2101a9f2e60</td>\n",
       "      <td>Starting XI</td>\n",
       "      <td>Sweden Women's</td>\n",
       "      <td>NaN</td>\n",
       "      <td>NaN</td>\n",
       "      <td>NaN</td>\n",
       "      <td>NaN</td>\n",
       "    </tr>\n",
       "    <tr>\n",
       "      <th>2</th>\n",
       "      <td>87ba272a-3af0-4fc7-872f-65e8f79fb753</td>\n",
       "      <td>Half Start</td>\n",
       "      <td>England Women's</td>\n",
       "      <td>NaN</td>\n",
       "      <td>NaN</td>\n",
       "      <td>NaN</td>\n",
       "      <td>NaN</td>\n",
       "    </tr>\n",
       "    <tr>\n",
       "      <th>3</th>\n",
       "      <td>85d30bef-8b77-405e-bc64-c63ed4d7a6d7</td>\n",
       "      <td>Half Start</td>\n",
       "      <td>Sweden Women's</td>\n",
       "      <td>NaN</td>\n",
       "      <td>NaN</td>\n",
       "      <td>NaN</td>\n",
       "      <td>NaN</td>\n",
       "    </tr>\n",
       "    <tr>\n",
       "      <th>4</th>\n",
       "      <td>760528a6-2de2-427f-9795-b2b19819ef1f</td>\n",
       "      <td>Pass</td>\n",
       "      <td>England Women's</td>\n",
       "      <td>Ellen White</td>\n",
       "      <td>60.0</td>\n",
       "      <td>40.0</td>\n",
       "      <td>NaN</td>\n",
       "    </tr>\n",
       "  </tbody>\n",
       "</table>\n",
       "</div>"
      ],
      "text/plain": [
       "                                     id    type_name        team_name  \\\n",
       "0  e8643796-c76d-44f5-a03d-fa742e051942  Starting XI  England Women's   \n",
       "1  937f83f8-674d-4c58-81d5-e2101a9f2e60  Starting XI   Sweden Women's   \n",
       "2  87ba272a-3af0-4fc7-872f-65e8f79fb753   Half Start  England Women's   \n",
       "3  85d30bef-8b77-405e-bc64-c63ed4d7a6d7   Half Start   Sweden Women's   \n",
       "4  760528a6-2de2-427f-9795-b2b19819ef1f         Pass  England Women's   \n",
       "\n",
       "   player_name     x     y outcome_name  \n",
       "0          NaN   NaN   NaN          NaN  \n",
       "1          NaN   NaN   NaN          NaN  \n",
       "2          NaN   NaN   NaN          NaN  \n",
       "3          NaN   NaN   NaN          NaN  \n",
       "4  Ellen White  60.0  40.0          NaN  "
      ]
     },
     "execution_count": 74,
     "metadata": {},
     "output_type": "execute_result"
    }
   ],
   "source": [
    "df_clean.head()"
   ]
  },
  {
   "cell_type": "code",
   "execution_count": 78,
   "metadata": {},
   "outputs": [
    {
     "name": "stdout",
     "output_type": "stream",
     "text": [
      "<class 'pandas.core.frame.DataFrame'>\n",
      "RangeIndex: 3291 entries, 0 to 3290\n",
      "Data columns (total 7 columns):\n",
      " #   Column        Non-Null Count  Dtype  \n",
      "---  ------        --------------  -----  \n",
      " 0   id            3291 non-null   object \n",
      " 1   type_name     3291 non-null   object \n",
      " 2   team_name     3291 non-null   object \n",
      " 3   player_name   3279 non-null   object \n",
      " 4   x             3266 non-null   float64\n",
      " 5   y             3266 non-null   float64\n",
      " 6   outcome_name  503 non-null    object \n",
      "dtypes: float64(2), object(5)\n",
      "memory usage: 180.1+ KB\n"
     ]
    }
   ],
   "source": [
    "df_clean.info()"
   ]
  },
  {
   "cell_type": "markdown",
   "metadata": {},
   "source": [
    "Find the two teams playing"
   ]
  },
  {
   "cell_type": "code",
   "execution_count": 79,
   "metadata": {},
   "outputs": [
    {
     "data": {
      "text/plain": [
       "array([\"England Women's\", \"Sweden Women's\"], dtype=object)"
      ]
     },
     "execution_count": 79,
     "metadata": {},
     "output_type": "execute_result"
    }
   ],
   "source": [
    "df_clean.team_name.unique()"
   ]
  },
  {
   "cell_type": "code",
   "execution_count": 80,
   "metadata": {},
   "outputs": [
    {
     "name": "stdout",
     "output_type": "stream",
     "text": [
      "Team 1: England Women's\n",
      "Team 2: Sweden Women's\n"
     ]
    }
   ],
   "source": [
    "team1, team2 = df_clean.team_name.unique()\n",
    "print(\"Team 1: \" + team1, \"Team 2: \" + team2, sep=\"\\n\") "
   ]
  },
  {
   "cell_type": "markdown",
   "metadata": {},
   "source": [
    "Filter the events that were shots and store in a dataframe"
   ]
  },
  {
   "cell_type": "code",
   "execution_count": 81,
   "metadata": {},
   "outputs": [
    {
     "data": {
      "text/plain": [
       "array(['Starting XI', 'Half Start', 'Pass', 'Ball Receipt', 'Carry',\n",
       "       'Pressure', 'Ball Recovery', 'Clearance', 'Block', 'Dispossessed',\n",
       "       'Duel', 'Dribbled Past', 'Dribble', 'Interception', 'Goal Keeper',\n",
       "       'Miscontrol', 'Foul Committed', 'Foul Won', 'Injury Stoppage',\n",
       "       'Error', 'Shot', 'Substitution', 'Half End', 'Tactical Shift',\n",
       "       'Bad Behaviour'], dtype=object)"
      ]
     },
     "execution_count": 81,
     "metadata": {},
     "output_type": "execute_result"
    }
   ],
   "source": [
    "df_clean.type_name.unique()"
   ]
  },
  {
   "cell_type": "code",
   "execution_count": 82,
   "metadata": {},
   "outputs": [
    {
     "data": {
      "text/plain": [
       "'Shot'"
      ]
     },
     "execution_count": 82,
     "metadata": {},
     "output_type": "execute_result"
    }
   ],
   "source": [
    "df_clean.values[340][1]"
   ]
  },
  {
   "cell_type": "markdown",
   "metadata": {},
   "source": [
    "Store the list of shots in a list and create a new data frame using the list "
   ]
  },
  {
   "cell_type": "code",
   "execution_count": 83,
   "metadata": {},
   "outputs": [],
   "source": [
    "shots_list = []\n",
    "\n",
    "for row in df_clean.values:\n",
    "    if row[1] == \"Shot\":\n",
    "        shots_list.append(row)\n",
    "\n",
    "shots_df = pd.DataFrame(shots_list, columns = df_clean.columns)"
   ]
  },
  {
   "cell_type": "markdown",
   "metadata": {},
   "source": [
    "Easier way to filter the events that were shots"
   ]
  },
  {
   "cell_type": "code",
   "execution_count": 84,
   "metadata": {},
   "outputs": [],
   "source": [
    "shots = df_clean.loc[df['type_name'] == 'Shot'].set_index('id')"
   ]
  },
  {
   "cell_type": "code",
   "execution_count": 85,
   "metadata": {},
   "outputs": [
    {
     "data": {
      "text/html": [
       "<div>\n",
       "<style scoped>\n",
       "    .dataframe tbody tr th:only-of-type {\n",
       "        vertical-align: middle;\n",
       "    }\n",
       "\n",
       "    .dataframe tbody tr th {\n",
       "        vertical-align: top;\n",
       "    }\n",
       "\n",
       "    .dataframe thead th {\n",
       "        text-align: right;\n",
       "    }\n",
       "</style>\n",
       "<table border=\"1\" class=\"dataframe\">\n",
       "  <thead>\n",
       "    <tr style=\"text-align: right;\">\n",
       "      <th></th>\n",
       "      <th>type_name</th>\n",
       "      <th>team_name</th>\n",
       "      <th>player_name</th>\n",
       "      <th>x</th>\n",
       "      <th>y</th>\n",
       "      <th>outcome_name</th>\n",
       "    </tr>\n",
       "    <tr>\n",
       "      <th>id</th>\n",
       "      <th></th>\n",
       "      <th></th>\n",
       "      <th></th>\n",
       "      <th></th>\n",
       "      <th></th>\n",
       "      <th></th>\n",
       "    </tr>\n",
       "  </thead>\n",
       "  <tbody>\n",
       "    <tr>\n",
       "      <th>f158cbc0-a7a1-4787-8f73-15c66ae55764</th>\n",
       "      <td>Shot</td>\n",
       "      <td>Sweden Women's</td>\n",
       "      <td>Kosovare Asllani</td>\n",
       "      <td>104.7</td>\n",
       "      <td>45.5</td>\n",
       "      <td>Goal</td>\n",
       "    </tr>\n",
       "    <tr>\n",
       "      <th>de5c41c5-9200-439e-b051-bfe2016d689a</th>\n",
       "      <td>Shot</td>\n",
       "      <td>Sweden Women's</td>\n",
       "      <td>Eva Sofia Jakobsson</td>\n",
       "      <td>110.9</td>\n",
       "      <td>53.1</td>\n",
       "      <td>Saved to Post</td>\n",
       "    </tr>\n",
       "    <tr>\n",
       "      <th>106faebb-00bc-4453-b1c1-1bacdb1ebbc5</th>\n",
       "      <td>Shot</td>\n",
       "      <td>Sweden Women's</td>\n",
       "      <td>Eva Sofia Jakobsson</td>\n",
       "      <td>107.8</td>\n",
       "      <td>26.1</td>\n",
       "      <td>Goal</td>\n",
       "    </tr>\n",
       "    <tr>\n",
       "      <th>309f6f06-3977-49ac-8c0b-0e31b54404ed</th>\n",
       "      <td>Shot</td>\n",
       "      <td>England Women's</td>\n",
       "      <td>Lucy Bronze</td>\n",
       "      <td>93.7</td>\n",
       "      <td>51.1</td>\n",
       "      <td>Saved</td>\n",
       "    </tr>\n",
       "    <tr>\n",
       "      <th>d1c8dbc7-a164-4e34-8674-1eeba842cbbd</th>\n",
       "      <td>Shot</td>\n",
       "      <td>England Women's</td>\n",
       "      <td>Francesca Kirby</td>\n",
       "      <td>108.0</td>\n",
       "      <td>52.7</td>\n",
       "      <td>Goal</td>\n",
       "    </tr>\n",
       "  </tbody>\n",
       "</table>\n",
       "</div>"
      ],
      "text/plain": [
       "                                     type_name        team_name  \\\n",
       "id                                                                \n",
       "f158cbc0-a7a1-4787-8f73-15c66ae55764      Shot   Sweden Women's   \n",
       "de5c41c5-9200-439e-b051-bfe2016d689a      Shot   Sweden Women's   \n",
       "106faebb-00bc-4453-b1c1-1bacdb1ebbc5      Shot   Sweden Women's   \n",
       "309f6f06-3977-49ac-8c0b-0e31b54404ed      Shot  England Women's   \n",
       "d1c8dbc7-a164-4e34-8674-1eeba842cbbd      Shot  England Women's   \n",
       "\n",
       "                                              player_name      x     y  \\\n",
       "id                                                                       \n",
       "f158cbc0-a7a1-4787-8f73-15c66ae55764     Kosovare Asllani  104.7  45.5   \n",
       "de5c41c5-9200-439e-b051-bfe2016d689a  Eva Sofia Jakobsson  110.9  53.1   \n",
       "106faebb-00bc-4453-b1c1-1bacdb1ebbc5  Eva Sofia Jakobsson  107.8  26.1   \n",
       "309f6f06-3977-49ac-8c0b-0e31b54404ed          Lucy Bronze   93.7  51.1   \n",
       "d1c8dbc7-a164-4e34-8674-1eeba842cbbd      Francesca Kirby  108.0  52.7   \n",
       "\n",
       "                                       outcome_name  \n",
       "id                                                   \n",
       "f158cbc0-a7a1-4787-8f73-15c66ae55764           Goal  \n",
       "de5c41c5-9200-439e-b051-bfe2016d689a  Saved to Post  \n",
       "106faebb-00bc-4453-b1c1-1bacdb1ebbc5           Goal  \n",
       "309f6f06-3977-49ac-8c0b-0e31b54404ed          Saved  \n",
       "d1c8dbc7-a164-4e34-8674-1eeba842cbbd           Goal  "
      ]
     },
     "execution_count": 85,
     "metadata": {},
     "output_type": "execute_result"
    }
   ],
   "source": [
    "shots.head()"
   ]
  },
  {
   "cell_type": "code",
   "execution_count": 86,
   "metadata": {},
   "outputs": [
    {
     "name": "stdout",
     "output_type": "stream",
     "text": [
      "19 shots taken during the match\n"
     ]
    }
   ],
   "source": [
    "n = shots.shape[0]\n",
    "print(\"{n} shots taken during the match\".format(n = n))"
   ]
  },
  {
   "cell_type": "markdown",
   "metadata": {},
   "source": [
    "Draw the pitch using mplsoccer's Pitch function"
   ]
  },
  {
   "cell_type": "code",
   "execution_count": 87,
   "metadata": {},
   "outputs": [
    {
     "data": {
      "image/png": "[encoded data removed]",
      "text/plain": [
       "<Figure size 1000x700 with 1 Axes>"
      ]
     },
     "metadata": {},
     "output_type": "display_data"
    }
   ],
   "source": [
    "pitch = Pitch(pitch_type = \"statsbomb\", line_color = \"black\")\n",
    "fig, ax = pitch.draw(figsize=(10, 7))\n",
    "pitchLengthX = 120\n",
    "pitchWidthY = 80"
   ]
  },
  {
   "cell_type": "markdown",
   "metadata": {},
   "source": [
    "Finding the X and Y coordinates of the shots"
   ]
  },
  {
   "cell_type": "code",
   "execution_count": 100,
   "metadata": {},
   "outputs": [
    {
     "name": "stdout",
     "output_type": "stream",
     "text": [
      "\n",
      "      -------- SHOT 1 --------\n",
      "Team taking the shot: Sweden Women's\n",
      "Player taking the shot: Kosovare Asllani\n",
      "Coordinates of shot: (104.7, 45.5)\n",
      "Outcome of shot: Goal\n",
      "\n",
      "      -------- SHOT 2 --------\n",
      "Team taking the shot: Sweden Women's\n",
      "Player taking the shot: Eva Sofia Jakobsson\n",
      "Coordinates of shot: (110.9, 53.1)\n",
      "Outcome of shot: Saved to Post\n",
      "\n",
      "      -------- SHOT 3 --------\n",
      "Team taking the shot: Sweden Women's\n",
      "Player taking the shot: Eva Sofia Jakobsson\n",
      "Coordinates of shot: (107.8, 26.1)\n",
      "Outcome of shot: Goal\n",
      "\n",
      "      -------- SHOT 4 --------\n",
      "Team taking the shot: England Women's\n",
      "Player taking the shot: Lucy Bronze\n",
      "Coordinates of shot: (93.7, 51.1)\n",
      "Outcome of shot: Saved\n",
      "\n",
      "      -------- SHOT 5 --------\n",
      "Team taking the shot: England Women's\n",
      "Player taking the shot: Francesca Kirby\n",
      "Coordinates of shot: (108.0, 52.7)\n",
      "Outcome of shot: Goal\n",
      "\n",
      "      -------- SHOT 6 --------\n",
      "Team taking the shot: Sweden Women's\n",
      "Player taking the shot: Hanna Erica Maria Glas\n",
      "Coordinates of shot: (83.6, 47.1)\n",
      "Outcome of shot: Saved\n",
      "\n",
      "      -------- SHOT 7 --------\n",
      "Team taking the shot: Sweden Women's\n",
      "Player taking the shot: Emma Stina Blackstenius\n",
      "Coordinates of shot: (105.4, 25.5)\n",
      "Outcome of shot: Off T\n",
      "\n",
      "      -------- SHOT 8 --------\n",
      "Team taking the shot: England Women's\n",
      "Player taking the shot: Ellen White\n",
      "Coordinates of shot: (108.4, 53.3)\n",
      "Outcome of shot: Saved\n",
      "\n",
      "      -------- SHOT 9 --------\n",
      "Team taking the shot: England Women's\n",
      "Player taking the shot: Alex Greenwood\n",
      "Coordinates of shot: (84.3, 31.3)\n",
      "Outcome of shot: Blocked\n",
      "\n",
      "      -------- SHOT 10 --------\n",
      "Team taking the shot: England Women's\n",
      "Player taking the shot: Jade Moore\n",
      "Coordinates of shot: (81.9, 35.2)\n",
      "Outcome of shot: Off T\n",
      "\n",
      "      -------- SHOT 11 --------\n",
      "Team taking the shot: England Women's\n",
      "Player taking the shot: Jill Scott\n",
      "Coordinates of shot: (88.6, 39.9)\n",
      "Outcome of shot: Blocked\n",
      "\n",
      "      -------- SHOT 12 --------\n",
      "Team taking the shot: England Women's\n",
      "Player taking the shot: Stephanie Houghton\n",
      "Coordinates of shot: (117.5, 48.2)\n",
      "Outcome of shot: Off T\n",
      "\n",
      "      -------- SHOT 13 --------\n",
      "Team taking the shot: England Women's\n",
      "Player taking the shot: Lucy Bronze\n",
      "Coordinates of shot: (63.1, 79.4)\n",
      "Outcome of shot: Wayward\n",
      "\n",
      "      -------- SHOT 14 --------\n",
      "Team taking the shot: Sweden Women's\n",
      "Player taking the shot: Julia Zigiotti-Olme\n",
      "Coordinates of shot: (95.7, 39.3)\n",
      "Outcome of shot: Saved\n",
      "\n",
      "      -------- SHOT 15 --------\n",
      "Team taking the shot: England Women's\n",
      "Player taking the shot: Jade Moore\n",
      "Coordinates of shot: (82.9, 38.3)\n",
      "Outcome of shot: Off T\n",
      "\n",
      "      -------- SHOT 16 --------\n",
      "Team taking the shot: Sweden Women's\n",
      "Player taking the shot: Eva Sofia Jakobsson\n",
      "Coordinates of shot: (102.9, 51.5)\n",
      "Outcome of shot: Saved\n",
      "\n",
      "      -------- SHOT 17 --------\n",
      "Team taking the shot: England Women's\n",
      "Player taking the shot: Lucy Bronze\n",
      "Coordinates of shot: (107.0, 37.7)\n",
      "Outcome of shot: Blocked\n",
      "\n",
      "      -------- SHOT 18 --------\n",
      "Team taking the shot: England Women's\n",
      "Player taking the shot: Karen Julia Carney\n",
      "Coordinates of shot: (89.3, 33.5)\n",
      "Outcome of shot: Saved\n",
      "\n",
      "      -------- SHOT 19 --------\n",
      "Team taking the shot: Sweden Women's\n",
      "Player taking the shot: Julia Zigiotti-Olme\n",
      "Coordinates of shot: (109.0, 33.4)\n",
      "Outcome of shot: Saved\n"
     ]
    }
   ],
   "source": [
    "shot_no = 0\n",
    "for i, shot in shots.iterrows():\n",
    "    shot_no += 1\n",
    "    print(\"\\n\" + \"      -------- SHOT {shot_no} --------\".format(shot_no = shot_no))\n",
    "    print(\"Team taking the shot: {team_name}\".format(team_name = shot[\"team_name\"]))\n",
    "    print(\"Player taking the shot: {player_name}\".format(player_name = shot[\"player_name\"]))\n",
    "    # print(\"X coordinate of shot: {shot_x}\".format(shot_x = shot['x']))\n",
    "    # print(\"Y coordinate of shot: {shot_y}\".format(shot_y = shot['y']))\n",
    "    print(\"Coordinates of shot: ({shot_x}, {shot_y})\".format(shot_x = shot['x'], shot_y = shot['y']))\n",
    "    print(\"Outcome of shot: {outcome}\".format(outcome = shot['outcome_name']))"
   ]
  },
  {
   "cell_type": "markdown",
   "metadata": {},
   "source": [
    "Giving more structure to the data"
   ]
  },
  {
   "cell_type": "code",
   "execution_count": 101,
   "metadata": {},
   "outputs": [
    {
     "data": {
      "text/html": [
       "<div>\n",
       "<style scoped>\n",
       "    .dataframe tbody tr th:only-of-type {\n",
       "        vertical-align: middle;\n",
       "    }\n",
       "\n",
       "    .dataframe tbody tr th {\n",
       "        vertical-align: top;\n",
       "    }\n",
       "\n",
       "    .dataframe thead th {\n",
       "        text-align: right;\n",
       "    }\n",
       "</style>\n",
       "<table border=\"1\" class=\"dataframe\">\n",
       "  <thead>\n",
       "    <tr style=\"text-align: right;\">\n",
       "      <th></th>\n",
       "      <th>shot_number</th>\n",
       "      <th>team_name</th>\n",
       "      <th>player_name</th>\n",
       "      <th>coordinates</th>\n",
       "      <th>outcome_name</th>\n",
       "    </tr>\n",
       "  </thead>\n",
       "  <tbody>\n",
       "    <tr>\n",
       "      <th>0</th>\n",
       "      <td>1</td>\n",
       "      <td>Sweden Women's</td>\n",
       "      <td>Kosovare Asllani</td>\n",
       "      <td>(104.7, 45.5)</td>\n",
       "      <td>Goal</td>\n",
       "    </tr>\n",
       "    <tr>\n",
       "      <th>1</th>\n",
       "      <td>2</td>\n",
       "      <td>Sweden Women's</td>\n",
       "      <td>Eva Sofia Jakobsson</td>\n",
       "      <td>(110.9, 53.1)</td>\n",
       "      <td>Saved to Post</td>\n",
       "    </tr>\n",
       "    <tr>\n",
       "      <th>2</th>\n",
       "      <td>3</td>\n",
       "      <td>Sweden Women's</td>\n",
       "      <td>Eva Sofia Jakobsson</td>\n",
       "      <td>(107.8, 26.1)</td>\n",
       "      <td>Goal</td>\n",
       "    </tr>\n",
       "    <tr>\n",
       "      <th>3</th>\n",
       "      <td>4</td>\n",
       "      <td>England Women's</td>\n",
       "      <td>Lucy Bronze</td>\n",
       "      <td>(93.7, 51.1)</td>\n",
       "      <td>Saved</td>\n",
       "    </tr>\n",
       "    <tr>\n",
       "      <th>4</th>\n",
       "      <td>5</td>\n",
       "      <td>England Women's</td>\n",
       "      <td>Francesca Kirby</td>\n",
       "      <td>(108.0, 52.7)</td>\n",
       "      <td>Goal</td>\n",
       "    </tr>\n",
       "    <tr>\n",
       "      <th>5</th>\n",
       "      <td>6</td>\n",
       "      <td>Sweden Women's</td>\n",
       "      <td>Hanna Erica Maria Glas</td>\n",
       "      <td>(83.6, 47.1)</td>\n",
       "      <td>Saved</td>\n",
       "    </tr>\n",
       "    <tr>\n",
       "      <th>6</th>\n",
       "      <td>7</td>\n",
       "      <td>Sweden Women's</td>\n",
       "      <td>Emma Stina Blackstenius</td>\n",
       "      <td>(105.4, 25.5)</td>\n",
       "      <td>Off T</td>\n",
       "    </tr>\n",
       "    <tr>\n",
       "      <th>7</th>\n",
       "      <td>8</td>\n",
       "      <td>England Women's</td>\n",
       "      <td>Ellen White</td>\n",
       "      <td>(108.4, 53.3)</td>\n",
       "      <td>Saved</td>\n",
       "    </tr>\n",
       "    <tr>\n",
       "      <th>8</th>\n",
       "      <td>9</td>\n",
       "      <td>England Women's</td>\n",
       "      <td>Alex Greenwood</td>\n",
       "      <td>(84.3, 31.3)</td>\n",
       "      <td>Blocked</td>\n",
       "    </tr>\n",
       "    <tr>\n",
       "      <th>9</th>\n",
       "      <td>10</td>\n",
       "      <td>England Women's</td>\n",
       "      <td>Jade Moore</td>\n",
       "      <td>(81.9, 35.2)</td>\n",
       "      <td>Off T</td>\n",
       "    </tr>\n",
       "    <tr>\n",
       "      <th>10</th>\n",
       "      <td>11</td>\n",
       "      <td>England Women's</td>\n",
       "      <td>Jill Scott</td>\n",
       "      <td>(88.6, 39.9)</td>\n",
       "      <td>Blocked</td>\n",
       "    </tr>\n",
       "    <tr>\n",
       "      <th>11</th>\n",
       "      <td>12</td>\n",
       "      <td>England Women's</td>\n",
       "      <td>Stephanie Houghton</td>\n",
       "      <td>(117.5, 48.2)</td>\n",
       "      <td>Off T</td>\n",
       "    </tr>\n",
       "    <tr>\n",
       "      <th>12</th>\n",
       "      <td>13</td>\n",
       "      <td>England Women's</td>\n",
       "      <td>Lucy Bronze</td>\n",
       "      <td>(63.1, 79.4)</td>\n",
       "      <td>Wayward</td>\n",
       "    </tr>\n",
       "    <tr>\n",
       "      <th>13</th>\n",
       "      <td>14</td>\n",
       "      <td>Sweden Women's</td>\n",
       "      <td>Julia Zigiotti-Olme</td>\n",
       "      <td>(95.7, 39.3)</td>\n",
       "      <td>Saved</td>\n",
       "    </tr>\n",
       "    <tr>\n",
       "      <th>14</th>\n",
       "      <td>15</td>\n",
       "      <td>England Women's</td>\n",
       "      <td>Jade Moore</td>\n",
       "      <td>(82.9, 38.3)</td>\n",
       "      <td>Off T</td>\n",
       "    </tr>\n",
       "    <tr>\n",
       "      <th>15</th>\n",
       "      <td>16</td>\n",
       "      <td>Sweden Women's</td>\n",
       "      <td>Eva Sofia Jakobsson</td>\n",
       "      <td>(102.9, 51.5)</td>\n",
       "      <td>Saved</td>\n",
       "    </tr>\n",
       "    <tr>\n",
       "      <th>16</th>\n",
       "      <td>17</td>\n",
       "      <td>England Women's</td>\n",
       "      <td>Lucy Bronze</td>\n",
       "      <td>(107.0, 37.7)</td>\n",
       "      <td>Blocked</td>\n",
       "    </tr>\n",
       "    <tr>\n",
       "      <th>17</th>\n",
       "      <td>18</td>\n",
       "      <td>England Women's</td>\n",
       "      <td>Karen Julia Carney</td>\n",
       "      <td>(89.3, 33.5)</td>\n",
       "      <td>Saved</td>\n",
       "    </tr>\n",
       "    <tr>\n",
       "      <th>18</th>\n",
       "      <td>19</td>\n",
       "      <td>Sweden Women's</td>\n",
       "      <td>Julia Zigiotti-Olme</td>\n",
       "      <td>(109.0, 33.4)</td>\n",
       "      <td>Saved</td>\n",
       "    </tr>\n",
       "  </tbody>\n",
       "</table>\n",
       "</div>"
      ],
      "text/plain": [
       "    shot_number        team_name              player_name    coordinates  \\\n",
       "0             1   Sweden Women's         Kosovare Asllani  (104.7, 45.5)   \n",
       "1             2   Sweden Women's      Eva Sofia Jakobsson  (110.9, 53.1)   \n",
       "2             3   Sweden Women's      Eva Sofia Jakobsson  (107.8, 26.1)   \n",
       "3             4  England Women's              Lucy Bronze   (93.7, 51.1)   \n",
       "4             5  England Women's          Francesca Kirby  (108.0, 52.7)   \n",
       "5             6   Sweden Women's   Hanna Erica Maria Glas   (83.6, 47.1)   \n",
       "6             7   Sweden Women's  Emma Stina Blackstenius  (105.4, 25.5)   \n",
       "7             8  England Women's              Ellen White  (108.4, 53.3)   \n",
       "8             9  England Women's           Alex Greenwood   (84.3, 31.3)   \n",
       "9            10  England Women's               Jade Moore   (81.9, 35.2)   \n",
       "10           11  England Women's               Jill Scott   (88.6, 39.9)   \n",
       "11           12  England Women's       Stephanie Houghton  (117.5, 48.2)   \n",
       "12           13  England Women's              Lucy Bronze   (63.1, 79.4)   \n",
       "13           14   Sweden Women's      Julia Zigiotti-Olme   (95.7, 39.3)   \n",
       "14           15  England Women's               Jade Moore   (82.9, 38.3)   \n",
       "15           16   Sweden Women's      Eva Sofia Jakobsson  (102.9, 51.5)   \n",
       "16           17  England Women's              Lucy Bronze  (107.0, 37.7)   \n",
       "17           18  England Women's       Karen Julia Carney   (89.3, 33.5)   \n",
       "18           19   Sweden Women's      Julia Zigiotti-Olme  (109.0, 33.4)   \n",
       "\n",
       "     outcome_name  \n",
       "0            Goal  \n",
       "1   Saved to Post  \n",
       "2            Goal  \n",
       "3           Saved  \n",
       "4            Goal  \n",
       "5           Saved  \n",
       "6           Off T  \n",
       "7           Saved  \n",
       "8         Blocked  \n",
       "9           Off T  \n",
       "10        Blocked  \n",
       "11          Off T  \n",
       "12        Wayward  \n",
       "13          Saved  \n",
       "14          Off T  \n",
       "15          Saved  \n",
       "16        Blocked  \n",
       "17          Saved  \n",
       "18          Saved  "
      ]
     },
     "execution_count": 101,
     "metadata": {},
     "output_type": "execute_result"
    }
   ],
   "source": [
    "shot_data = []\n",
    "shot_no = 0\n",
    "for i, shot in shots.iterrows():\n",
    "    shot_no += 1\n",
    "    shot_data.append([shot_no, shot[\"team_name\"], shot[\"player_name\"], (shot['x'], shot['y']), shot['outcome_name']])\n",
    "\n",
    "shot_columns = [\"shot_number\", \"team_name\", \"player_name\", \"coordinates\", \"outcome_name\"]\n",
    "shot_table = pd.DataFrame(shot_data, columns = shot_columns)\n",
    "\n",
    "shot_table"
   ]
  },
  {
   "cell_type": "code",
   "execution_count": 102,
   "metadata": {},
   "outputs": [
    {
     "data": {
      "image/png": "[encoded data removed]",
      "text/plain": [
       "<Figure size 1000x700 with 1 Axes>"
      ]
     },
     "metadata": {},
     "output_type": "display_data"
    }
   ],
   "source": [
    "pitch = Pitch(pitch_type = \"statsbomb\", line_color = \"black\")\n",
    "fig, ax = pitch.draw(figsize=(10, 7))\n",
    "pitchLengthX = 120\n",
    "pitchWidthY = 80\n",
    "\n",
    "for i, shot in shot_table.iterrows():\n",
    "    #Get x and y coordinates\n",
    "    x = shot[\"coordinates\"][0]\n",
    "    y = shot[\"coordinates\"][1]\n",
    "\n",
    "    #Set goal as True if outcome was a goal\n",
    "    goal = shot[\"outcome_name\"] == \"Goal\"\n",
    "\n",
    "    #Set team name\n",
    "    team_name = shot[\"team_name\"]\n",
    "\n",
    "    #Set player name\n",
    "    player_name = shot[\"player_name\"]\n",
    "    \n",
    "    #set circleSize\n",
    "    circleSize = 2\n",
    "\n",
    "    #Plot England Women's\n",
    "    if (team_name == team1):\n",
    "        if goal:\n",
    "            shotCircle = plt.Circle((x, y), radius = circleSize, color = \"red\")\n",
    "            plt.text(x + 1, y - 1, player_name)\n",
    "        else:\n",
    "            shotCircle = plt.Circle((x, y), radius = circleSize, color = \"red\")\n",
    "            #Reduce opacity by setting low alpha value\n",
    "            shotCircle.set_alpha(.2)\n",
    "    #Plot Sweden Women's\n",
    "    else:\n",
    "        if goal:\n",
    "            shotCircle = plt.Circle((pitchLengthX - x, pitchWidthY - y), radius = circleSize, color = \"blue\")\n",
    "            plt.text(pitchLengthX - x, pitchWidthY - y, player_name)\n",
    "        else:\n",
    "            shotCircle = plt.Circle((pitchLengthX - x, pitchWidthY - y), radius = circleSize, color = \"blue\")\n",
    "            #Reduce opacity by setting low alpha value\n",
    "            shotCircle.set_alpha(.2)\n",
    "    ax.add_patch(shotCircle)\n",
    "\n",
    "#set title\n",
    "fig.suptitle(\"England (red) and Sweden (blue) shots\", fontsize = 24)\n",
    "fig.set_size_inches(10, 7)\n",
    "plt.show()\n"
   ]
  },
  {
   "cell_type": "code",
   "execution_count": 114,
   "metadata": {},
   "outputs": [],
   "source": [
    "def SBcreateShotMap(game_id:int):\n",
    "    parser = Sbopen()\n",
    "    #parser.event(<game_id>) -> check SBdata.ipynb\n",
    "    df = parser.event(game_id)[0]\n",
    "\n",
    "    #clean the data\n",
    "    df_clean = df.drop(df.columns.difference(['id', 'team_name','player_name', 'type_name', 'x', 'y', 'outcome_name']), axis = 1)\n",
    "\n",
    "    #Teams playing\n",
    "    team1, team2 = df_clean.team_name.unique()\n",
    "\n",
    "    #Filtering the events that were shots\n",
    "    shots = df_clean.loc[df['type_name'] == 'Shot'].set_index('id')\n",
    "\n",
    "    pitch = Pitch(pitch_type = \"statsbomb\", line_color = \"black\")\n",
    "    fig, ax = pitch.draw(figsize=(10, 7))\n",
    "    pitchLengthX = 120\n",
    "    pitchWidthY = 80\n",
    "\n",
    "    for i, shot in shots.iterrows():\n",
    "        #Get x and y coordinates\n",
    "        x = shot[\"x\"]\n",
    "        y = shot[\"y\"]\n",
    "\n",
    "        #Set goal as True if outcome was a goal\n",
    "        goal = shot[\"outcome_name\"] == \"Goal\"\n",
    "\n",
    "        #Set team name\n",
    "        team_name = shot[\"team_name\"]\n",
    "\n",
    "        #Set player name\n",
    "        player_name = shot[\"player_name\"]\n",
    "        \n",
    "        #set circleSize\n",
    "        circleSize = 2\n",
    "\n",
    "        #Plot Team 1\n",
    "        if (team_name == team1):\n",
    "            if goal:\n",
    "                shotCircle = plt.Circle((x, y), radius = circleSize, color = \"red\")\n",
    "                plt.text(x + 1, y - 1, player_name)\n",
    "            else:\n",
    "                shotCircle = plt.Circle((x, y), radius = circleSize, color = \"red\")\n",
    "                #Reduce opacity by setting low alpha value\n",
    "                shotCircle.set_alpha(.2)\n",
    "        #Plot Team 2\n",
    "        else:\n",
    "            if goal:\n",
    "                shotCircle = plt.Circle((pitchLengthX - x, pitchWidthY - y), radius = circleSize, color = \"blue\")\n",
    "                plt.text(pitchLengthX - x, pitchWidthY - y, player_name)\n",
    "            else:\n",
    "                shotCircle = plt.Circle((pitchLengthX - x, pitchWidthY - y), radius = circleSize, color = \"blue\")\n",
    "                #Reduce opacity by setting low alpha value\n",
    "                shotCircle.set_alpha(.2)\n",
    "        ax.add_patch(shotCircle)\n",
    "\n",
    "    #set title\n",
    "    fig.suptitle(\"{team1} (red) and {team2} (blue) shots\".format(team1 = team1, team2 = team2), fontsize = 24)\n",
    "    fig.set_size_inches(10, 7)\n",
    "    plt.show()   "
   ]
  },
  {
   "cell_type": "code",
   "execution_count": 117,
   "metadata": {},
   "outputs": [
    {
     "data": {
      "image/png": "[encoded data removed]",
      "text/plain": [
       "<Figure size 1000x700 with 1 Axes>"
      ]
     },
     "metadata": {},
     "output_type": "display_data"
    }
   ],
   "source": [
    "SBcreateShotMap(19790)"
   ]
  }
 ],
 "metadata": {
  "kernelspec": {
   "display_name": "Python 3.9.7 64-bit",
   "language": "python",
   "name": "python3"
  },
  "language_info": {
   "codemirror_mode": {
    "name": "ipython",
    "version": 3
   },
   "file_extension": ".py",
   "mimetype": "text/x-python",
   "name": "python",
   "nbconvert_exporter": "python",
   "pygments_lexer": "ipython3",
   "version": "3.9.7"
  },
  "orig_nbformat": 4,
  "vscode": {
   "interpreter": {
    "hash": "2165353189c1e2e9ab4f68e159aabfb1ea1c166edc630c3992d3ad9e74634b0c"
   }
  }
 },
 "nbformat": 4,
 "nbformat_minor": 2
}
