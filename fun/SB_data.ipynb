{
 "cells": [
  {
   "cell_type": "markdown",
   "metadata": {},
   "source": [
    "# Extracting and storing the Statsbomb data"
   ]
  },
  {
   "cell_type": "markdown",
   "metadata": {},
   "source": [
    "### Library to open the data - [mplsoccer](https://mplsoccer.readthedocs.io/en/latest/gallery/statsbomb/plot_statsbomb_data.html)\n",
    "\n",
    "Importing Sbopen function from mplsoccer. Creating a Sbopen() parser variable\n",
    "\n"
   ]
  },
  {
   "cell_type": "code",
   "execution_count": 1,
   "metadata": {},
   "outputs": [],
   "source": [
    "from mplsoccer import Sbopen\n",
    "\n",
    "parser = Sbopen()"
   ]
  },
  {
   "cell_type": "markdown",
   "metadata": {},
   "source": [
    "### Opening Competition Data\n",
    "\n",
    "Using `competition()` method"
   ]
  },
  {
   "cell_type": "code",
   "execution_count": 2,
   "metadata": {},
   "outputs": [
    {
     "name": "stdout",
     "output_type": "stream",
     "text": [
      "<class 'pandas.core.frame.DataFrame'>\n",
      "RangeIndex: 42 entries, 0 to 41\n",
      "Data columns (total 12 columns):\n",
      " #   Column                     Non-Null Count  Dtype \n",
      "---  ------                     --------------  ----- \n",
      " 0   competition_id             42 non-null     int64 \n",
      " 1   season_id                  42 non-null     int64 \n",
      " 2   country_name               42 non-null     object\n",
      " 3   competition_name           42 non-null     object\n",
      " 4   competition_gender         42 non-null     object\n",
      " 5   competition_youth          42 non-null     bool  \n",
      " 6   competition_international  42 non-null     bool  \n",
      " 7   season_name                42 non-null     object\n",
      " 8   match_updated              42 non-null     object\n",
      " 9   match_updated_360          41 non-null     object\n",
      " 10  match_available_360        3 non-null      object\n",
      " 11  match_available            42 non-null     object\n",
      "dtypes: bool(2), int64(2), object(8)\n",
      "memory usage: 3.5+ KB\n"
     ]
    }
   ],
   "source": [
    "df_competition = parser.competition()\n",
    "#view the structure of the data\n",
    "df_competition.info()"
   ]
  },
  {
   "cell_type": "markdown",
   "metadata": {},
   "source": [
    "### Opening Match Data\n",
    "\n",
    "Using `match()` method. It takes two variables `competition_id` and `season_id`"
   ]
  },
  {
   "cell_type": "code",
   "execution_count": 3,
   "metadata": {},
   "outputs": [
    {
     "name": "stdout",
     "output_type": "stream",
     "text": [
      "<class 'pandas.core.frame.DataFrame'>\n",
      "RangeIndex: 52 entries, 0 to 51\n",
      "Data columns (total 52 columns):\n",
      " #   Column                           Non-Null Count  Dtype         \n",
      "---  ------                           --------------  -----         \n",
      " 0   match_id                         52 non-null     int64         \n",
      " 1   match_date                       52 non-null     datetime64[ns]\n",
      " 2   kick_off                         52 non-null     datetime64[ns]\n",
      " 3   home_score                       52 non-null     int64         \n",
      " 4   away_score                       52 non-null     int64         \n",
      " 5   match_status                     52 non-null     object        \n",
      " 6   match_status_360                 52 non-null     object        \n",
      " 7   last_updated                     52 non-null     datetime64[ns]\n",
      " 8   last_updated_360                 52 non-null     datetime64[ns]\n",
      " 9   match_week                       52 non-null     int64         \n",
      " 10  competition_id                   52 non-null     int64         \n",
      " 11  country_name                     52 non-null     object        \n",
      " 12  competition_name                 52 non-null     object        \n",
      " 13  season_id                        52 non-null     int64         \n",
      " 14  season_name                      52 non-null     object        \n",
      " 15  home_team_id                     52 non-null     int64         \n",
      " 16  home_team_name                   52 non-null     object        \n",
      " 17  home_team_gender                 52 non-null     object        \n",
      " 18  home_team_group                  40 non-null     object        \n",
      " 19  home_team_country_id             52 non-null     int64         \n",
      " 20  home_team_country_name           52 non-null     object        \n",
      " 21  home_team_managers_id            52 non-null     int64         \n",
      " 22  home_team_managers_name          52 non-null     object        \n",
      " 23  home_team_managers_nickname      52 non-null     object        \n",
      " 24  home_team_managers_dob           52 non-null     datetime64[ns]\n",
      " 25  home_team_managers_country_id    52 non-null     int64         \n",
      " 26  home_team_managers_country_name  52 non-null     object        \n",
      " 27  away_team_id                     52 non-null     int64         \n",
      " 28  away_team_name                   52 non-null     object        \n",
      " 29  away_team_gender                 52 non-null     object        \n",
      " 30  away_team_group                  40 non-null     object        \n",
      " 31  away_team_country_id             52 non-null     int64         \n",
      " 32  away_team_country_name           52 non-null     object        \n",
      " 33  away_team_managers_id            52 non-null     int64         \n",
      " 34  away_team_managers_name          52 non-null     object        \n",
      " 35  away_team_managers_nickname      52 non-null     object        \n",
      " 36  away_team_managers_dob           52 non-null     datetime64[ns]\n",
      " 37  away_team_managers_country_id    52 non-null     int64         \n",
      " 38  away_team_managers_country_name  52 non-null     object        \n",
      " 39  metadata_data_version            52 non-null     object        \n",
      " 40  metadata_shot_fidelity_version   52 non-null     object        \n",
      " 41  metadata_xy_fidelity_version     52 non-null     object        \n",
      " 42  competition_stage_id             52 non-null     int64         \n",
      " 43  competition_stage_name           52 non-null     object        \n",
      " 44  stadium_id                       52 non-null     int64         \n",
      " 45  stadium_name                     52 non-null     object        \n",
      " 46  stadium_country_id               52 non-null     int64         \n",
      " 47  stadium_country_name             52 non-null     object        \n",
      " 48  referee_id                       36 non-null     float64       \n",
      " 49  referee_name                     36 non-null     object        \n",
      " 50  referee_country_id               36 non-null     float64       \n",
      " 51  referee_country_name             36 non-null     object        \n",
      "dtypes: datetime64[ns](6), float64(2), int64(17), object(27)\n",
      "memory usage: 21.2+ KB\n"
     ]
    }
   ],
   "source": [
    "df_match = parser.match(competition_id = 72, season_id = 30)\n",
    "#view the structure of the data\n",
    "df_match.info()"
   ]
  },
  {
   "cell_type": "markdown",
   "metadata": {},
   "source": [
    "### Opening Lineup Data\n",
    "\n",
    "Using `lineup()` method. It takes the variable `game_id`"
   ]
  },
  {
   "cell_type": "code",
   "execution_count": 4,
   "metadata": {},
   "outputs": [
    {
     "name": "stdout",
     "output_type": "stream",
     "text": [
      "<class 'pandas.core.frame.DataFrame'>\n",
      "RangeIndex: 41 entries, 0 to 40\n",
      "Data columns (total 9 columns):\n",
      " #   Column           Non-Null Count  Dtype \n",
      "---  ------           --------------  ----- \n",
      " 0   player_id        41 non-null     int64 \n",
      " 1   player_name      41 non-null     object\n",
      " 2   player_nickname  41 non-null     object\n",
      " 3   jersey_number    41 non-null     int64 \n",
      " 4   match_id         41 non-null     int64 \n",
      " 5   team_id          41 non-null     int64 \n",
      " 6   team_name        41 non-null     object\n",
      " 7   country_id       41 non-null     int64 \n",
      " 8   country_name     41 non-null     object\n",
      "dtypes: int64(5), object(4)\n",
      "memory usage: 3.0+ KB\n"
     ]
    }
   ],
   "source": [
    "df_lineup = parser.lineup(69301)\n",
    "#view the structure of the data\n",
    "df_lineup.info()"
   ]
  },
  {
   "cell_type": "markdown",
   "metadata": {},
   "source": [
    "### Opening Event Data \n",
    "\n",
    "Using `event()` method. It takes the variable `game_id`\n",
    "\n",
    "> `parser.event(<game_id>)` returns a list: `[event_data, related_data, freeze_data, tactics_data]` "
   ]
  },
  {
   "cell_type": "markdown",
   "metadata": {},
   "source": [
    "1. Event data - Information of the events that took place"
   ]
  },
  {
   "cell_type": "code",
   "execution_count": 5,
   "metadata": {},
   "outputs": [
    {
     "name": "stdout",
     "output_type": "stream",
     "text": [
      "<class 'pandas.core.frame.DataFrame'>\n",
      "RangeIndex: 3291 entries, 0 to 3290\n",
      "Data columns (total 74 columns):\n",
      " #   Column                          Non-Null Count  Dtype  \n",
      "---  ------                          --------------  -----  \n",
      " 0   id                              3291 non-null   object \n",
      " 1   index                           3291 non-null   int64  \n",
      " 2   period                          3291 non-null   int64  \n",
      " 3   timestamp                       3291 non-null   object \n",
      " 4   minute                          3291 non-null   int64  \n",
      " 5   second                          3291 non-null   int64  \n",
      " 6   possession                      3291 non-null   int64  \n",
      " 7   duration                        2457 non-null   float64\n",
      " 8   match_id                        3291 non-null   int64  \n",
      " 9   type_id                         3291 non-null   int64  \n",
      " 10  type_name                       3291 non-null   object \n",
      " 11  possession_team_id              3291 non-null   int64  \n",
      " 12  possession_team_name            3291 non-null   object \n",
      " 13  play_pattern_id                 3291 non-null   int64  \n",
      " 14  play_pattern_name               3291 non-null   object \n",
      " 15  team_id                         3291 non-null   int64  \n",
      " 16  team_name                       3291 non-null   object \n",
      " 17  tactics_formation               4 non-null      float64\n",
      " 18  player_id                       3279 non-null   float64\n",
      " 19  player_name                     3279 non-null   object \n",
      " 20  position_id                     3279 non-null   float64\n",
      " 21  position_name                   3279 non-null   object \n",
      " 22  pass_recipient_id               834 non-null    float64\n",
      " 23  pass_recipient_name             834 non-null    object \n",
      " 24  pass_length                     921 non-null    float64\n",
      " 25  pass_angle                      921 non-null    float64\n",
      " 26  pass_height_id                  921 non-null    float64\n",
      " 27  pass_height_name                921 non-null    object \n",
      " 28  end_x                           1713 non-null   float64\n",
      " 29  end_y                           1713 non-null   float64\n",
      " 30  body_part_id                    939 non-null    float64\n",
      " 31  body_part_name                  939 non-null    object \n",
      " 32  sub_type_id                     318 non-null    float64\n",
      " 33  sub_type_name                   318 non-null    object \n",
      " 34  x                               3266 non-null   float64\n",
      " 35  y                               3266 non-null   float64\n",
      " 36  under_pressure                  640 non-null    float64\n",
      " 37  outcome_id                      503 non-null    float64\n",
      " 38  outcome_name                    503 non-null    object \n",
      " 39  out                             31 non-null     float64\n",
      " 40  counterpress                    88 non-null     float64\n",
      " 41  pass_deflected                  1 non-null      object \n",
      " 42  pass_switch                     22 non-null     object \n",
      " 43  technique_id                    37 non-null     float64\n",
      " 44  technique_name                  37 non-null     object \n",
      " 45  pass_cross                      34 non-null     object \n",
      " 46  off_camera                      25 non-null     float64\n",
      " 47  shot_statsbomb_xg               19 non-null     float64\n",
      " 48  end_z                           15 non-null     float64\n",
      " 49  shot_first_time                 5 non-null      object \n",
      " 50  goalkeeper_position_id          19 non-null     float64\n",
      " 51  goalkeeper_position_name        19 non-null     object \n",
      " 52  ball_recovery_recovery_failure  10 non-null     object \n",
      " 53  pass_assisted_shot_id           10 non-null     object \n",
      " 54  pass_shot_assist                8 non-null      object \n",
      " 55  shot_key_pass_id                10 non-null     object \n",
      " 56  foul_won_defensive              5 non-null      object \n",
      " 57  aerial_won                      30 non-null     object \n",
      " 58  pass_goal_assist                2 non-null      object \n",
      " 59  substitution_replacement_id     6 non-null      float64\n",
      " 60  substitution_replacement_name   6 non-null      object \n",
      " 61  foul_committed_offensive        2 non-null      object \n",
      " 62  shot_one_on_one                 1 non-null      object \n",
      " 63  dribble_overrun                 1 non-null      object \n",
      " 64  block_deflection                2 non-null      object \n",
      " 65  pass_cut_back                   1 non-null      object \n",
      " 66  bad_behaviour_card_id           1 non-null      float64\n",
      " 67  bad_behaviour_card_name         1 non-null      object \n",
      " 68  pass_no_touch                   1 non-null      object \n",
      " 69  block_save_block                1 non-null      object \n",
      " 70  foul_committed_advantage        1 non-null      object \n",
      " 71  foul_won_advantage              1 non-null      object \n",
      " 72  foul_committed_card_id          1 non-null      float64\n",
      " 73  foul_committed_card_name        1 non-null      object \n",
      "dtypes: float64(26), int64(10), object(38)\n",
      "memory usage: 1.9+ MB\n"
     ]
    }
   ],
   "source": [
    "df_event = parser.event(69301)[0]\n",
    "#view the structure of the data\n",
    "df_event.info()"
   ]
  },
  {
   "cell_type": "markdown",
   "metadata": {},
   "source": [
    "2. Related data - Information on events that were related to each other. For example ball pass and pressure applied"
   ]
  },
  {
   "cell_type": "code",
   "execution_count": 6,
   "metadata": {},
   "outputs": [
    {
     "name": "stdout",
     "output_type": "stream",
     "text": [
      "<class 'pandas.core.frame.DataFrame'>\n",
      "Int64Index: 6272 entries, 0 to 4734\n",
      "Data columns (total 7 columns):\n",
      " #   Column             Non-Null Count  Dtype \n",
      "---  ------             --------------  ----- \n",
      " 0   match_id           6272 non-null   int64 \n",
      " 1   id                 6272 non-null   object\n",
      " 2   index              6272 non-null   int64 \n",
      " 3   type_name          6272 non-null   object\n",
      " 4   id_related         6272 non-null   object\n",
      " 5   index_related      6272 non-null   int64 \n",
      " 6   type_name_related  6272 non-null   object\n",
      "dtypes: int64(3), object(4)\n",
      "memory usage: 392.0+ KB\n"
     ]
    }
   ],
   "source": [
    "df_related = parser.event(69301)[1]\n",
    "#view the structure of the data\n",
    "df_related.info()"
   ]
  },
  {
   "cell_type": "markdown",
   "metadata": {},
   "source": [
    "3. Freeze data - Freezed frames with player position in the moment of shots"
   ]
  },
  {
   "cell_type": "code",
   "execution_count": 7,
   "metadata": {},
   "outputs": [
    {
     "name": "stdout",
     "output_type": "stream",
     "text": [
      "<class 'pandas.core.frame.DataFrame'>\n",
      "RangeIndex: 232 entries, 0 to 231\n",
      "Data columns (total 10 columns):\n",
      " #   Column           Non-Null Count  Dtype  \n",
      "---  ------           --------------  -----  \n",
      " 0   teammate         232 non-null    bool   \n",
      " 1   match_id         232 non-null    int64  \n",
      " 2   id               232 non-null    object \n",
      " 3   x                232 non-null    float64\n",
      " 4   y                232 non-null    float64\n",
      " 5   player_id        232 non-null    int64  \n",
      " 6   player_name      232 non-null    object \n",
      " 7   position_id      232 non-null    int64  \n",
      " 8   position_name    232 non-null    object \n",
      " 9   event_freeze_id  232 non-null    int64  \n",
      "dtypes: bool(1), float64(2), int64(4), object(3)\n",
      "memory usage: 16.7+ KB\n"
     ]
    }
   ],
   "source": [
    "df_freeze = parser.event(69301)[2]\n",
    "#view the structure of the data\n",
    "df_freeze.info()\n",
    "# df_freeze.head()"
   ]
  },
  {
   "cell_type": "markdown",
   "metadata": {},
   "source": [
    "4. Tactics data - Information about player position on the pitch"
   ]
  },
  {
   "cell_type": "code",
   "execution_count": 8,
   "metadata": {},
   "outputs": [
    {
     "name": "stdout",
     "output_type": "stream",
     "text": [
      "<class 'pandas.core.frame.DataFrame'>\n",
      "RangeIndex: 44 entries, 0 to 43\n",
      "Data columns (total 8 columns):\n",
      " #   Column            Non-Null Count  Dtype \n",
      "---  ------            --------------  ----- \n",
      " 0   jersey_number     44 non-null     int64 \n",
      " 1   match_id          44 non-null     int64 \n",
      " 2   id                44 non-null     object\n",
      " 3   player_id         44 non-null     int64 \n",
      " 4   player_name       44 non-null     object\n",
      " 5   position_id       44 non-null     int64 \n",
      " 6   position_name     44 non-null     object\n",
      " 7   event_tactics_id  44 non-null     int64 \n",
      "dtypes: int64(5), object(3)\n",
      "memory usage: 2.9+ KB\n"
     ]
    }
   ],
   "source": [
    "df_tactics = parser.event(69301)[3]\n",
    "#view the structure of the data\n",
    "df_tactics.info()"
   ]
  },
  {
   "cell_type": "markdown",
   "metadata": {},
   "source": [
    "### Opening 360 data\n",
    "\n",
    "Using `frame()` method. It takes one variable\n",
    "\n",
    "> `parser.frame(<id>)` returns a list: `[frame_data, visible_data]` "
   ]
  },
  {
   "cell_type": "markdown",
   "metadata": {},
   "source": [
    "1. Frame data - Information about the positions at the time of freezed frame"
   ]
  },
  {
   "cell_type": "code",
   "execution_count": 9,
   "metadata": {},
   "outputs": [
    {
     "name": "stdout",
     "output_type": "stream",
     "text": [
      "<class 'pandas.core.frame.DataFrame'>\n",
      "RangeIndex: 47060 entries, 0 to 47059\n",
      "Data columns (total 7 columns):\n",
      " #   Column    Non-Null Count  Dtype  \n",
      "---  ------    --------------  -----  \n",
      " 0   teammate  47060 non-null  bool   \n",
      " 1   actor     47060 non-null  bool   \n",
      " 2   keeper    47060 non-null  bool   \n",
      " 3   match_id  47060 non-null  int64  \n",
      " 4   id        47060 non-null  object \n",
      " 5   x         47060 non-null  float64\n",
      " 6   y         47060 non-null  float64\n",
      "dtypes: bool(3), float64(2), int64(1), object(1)\n",
      "memory usage: 1.6+ MB\n"
     ]
    }
   ],
   "source": [
    "df_frame = parser.frame(3788741)[0]\n",
    "# view the structure of the data\n",
    "df_frame.info()"
   ]
  },
  {
   "cell_type": "markdown",
   "metadata": {},
   "source": [
    "2. Visible data - Information about the visibility of the player at the time of freezed frame"
   ]
  },
  {
   "cell_type": "code",
   "execution_count": 10,
   "metadata": {},
   "outputs": [
    {
     "name": "stdout",
     "output_type": "stream",
     "text": [
      "<class 'pandas.core.frame.DataFrame'>\n",
      "RangeIndex: 3470 entries, 0 to 3469\n",
      "Data columns (total 3 columns):\n",
      " #   Column        Non-Null Count  Dtype \n",
      "---  ------        --------------  ----- \n",
      " 0   match_id      3470 non-null   int64 \n",
      " 1   id            3470 non-null   object\n",
      " 2   visible_area  3470 non-null   object\n",
      "dtypes: int64(1), object(2)\n",
      "memory usage: 81.5+ KB\n"
     ]
    }
   ],
   "source": [
    "df_visible = parser.frame(3788741)[1]\n",
    "# view the structure of the data\n",
    "df_visible.info()"
   ]
  },
  {
   "cell_type": "markdown",
   "metadata": {},
   "source": [
    "Additional"
   ]
  },
  {
   "cell_type": "code",
   "execution_count": 11,
   "metadata": {},
   "outputs": [],
   "source": [
    "def breakline(s):\n",
    "    print(\"\\n\" + \"-----------\" + s + \"-----------\" + \"\\n\")"
   ]
  },
  {
   "cell_type": "code",
   "execution_count": 12,
   "metadata": {},
   "outputs": [
    {
     "name": "stdout",
     "output_type": "stream",
     "text": [
      "\n",
      "-----------Competition Data-----------\n",
      "\n"
     ]
    }
   ],
   "source": [
    "breakline(\"Competition Data\")"
   ]
  }
 ],
 "metadata": {
  "kernelspec": {
   "display_name": "Python 3.9.7 64-bit",
   "language": "python",
   "name": "python3"
  },
  "language_info": {
   "codemirror_mode": {
    "name": "ipython",
    "version": 3
   },
   "file_extension": ".py",
   "mimetype": "text/x-python",
   "name": "python",
   "nbconvert_exporter": "python",
   "pygments_lexer": "ipython3",
   "version": "3.9.7"
  },
  "orig_nbformat": 4,
  "vscode": {
   "interpreter": {
    "hash": "2165353189c1e2e9ab4f68e159aabfb1ea1c166edc630c3992d3ad9e74634b0c"
   }
  }
 },
 "nbformat": 4,
 "nbformat_minor": 2
}
